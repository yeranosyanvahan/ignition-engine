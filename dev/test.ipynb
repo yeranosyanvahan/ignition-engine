{
 "cells": [
  {
   "cell_type": "code",
   "execution_count": 52,
   "metadata": {},
   "outputs": [],
   "source": [
    "import numpy as np\n",
    "arr = np.loadtxt(\"sampledata.csv\",\n",
    "                 delimiter=\",\", dtype=str)"
   ]
  },
  {
   "cell_type": "code",
   "execution_count": 53,
   "metadata": {},
   "outputs": [],
   "source": [
    "V, T  = arr[5:-5].astype(int).T"
   ]
  },
  {
   "cell_type": "code",
   "execution_count": 54,
   "metadata": {},
   "outputs": [],
   "source": [
    "index = np.where( (V[2:] <= V[1:-1]) & (V[1:-1] > V [:-2]))[0]"
   ]
  },
  {
   "cell_type": "code",
   "execution_count": 58,
   "metadata": {},
   "outputs": [],
   "source": [
    "dT = np.diff(T[index])"
   ]
  },
  {
   "cell_type": "code",
   "execution_count": 61,
   "metadata": {},
   "outputs": [],
   "source": [
    "dT = dT[(dT > 5) | (dT < 30)]"
   ]
  },
  {
   "cell_type": "code",
   "execution_count": 75,
   "metadata": {},
   "outputs": [],
   "source": [
    "\n",
    "\n",
    "def vhzmeasure(VT):\n",
    "        MILISECOND = 1\n",
    "        VOLT = 1\n",
    "\n",
    "        V, T  = VT[5:-5].astype(int).T\n",
    "        index = np.where( (V[2:] <= V[1:-1]) & (V[1:-1] > V [:-2]))[0]\n",
    "\n",
    "        Vind = V[index]*VOLT\n",
    "        Tind = T[index]\n",
    "\n",
    "        dT = np.diff(Tind)\n",
    "        print(dT)\n",
    "        Hz = 1000*MILISECOND / np.average(dT[(dT > 5*MILISECOND) & (dT < 30*MILISECOND)])\n",
    "\n",
    "        Vlt = np.average(Vind[Vind > 50])\n",
    "        return Vlt,Hz \n",
    "\n"
   ]
  },
  {
   "cell_type": "code",
   "execution_count": 76,
   "metadata": {},
   "outputs": [
    {
     "name": "stdout",
     "output_type": "stream",
     "text": [
      "[20 20 20 20 20 20 21 19 21 20 20 20 20 20 20 20 21 20 20 20 20 21 19 21\n",
      " 20 20 20 20 21]\n"
     ]
    },
    {
     "data": {
      "text/plain": [
       "(238.4, 49.657534246575345)"
      ]
     },
     "execution_count": 76,
     "metadata": {},
     "output_type": "execute_result"
    }
   ],
   "source": [
    "vhzmeasure(arr[5:-5].astype(int))"
   ]
  },
  {
   "cell_type": "code",
   "execution_count": null,
   "metadata": {},
   "outputs": [],
   "source": []
  },
  {
   "cell_type": "code",
   "execution_count": null,
   "metadata": {},
   "outputs": [],
   "source": []
  },
  {
   "cell_type": "code",
   "execution_count": null,
   "metadata": {},
   "outputs": [],
   "source": []
  },
  {
   "cell_type": "code",
   "execution_count": null,
   "metadata": {},
   "outputs": [],
   "source": []
  }
 ],
 "metadata": {
  "kernelspec": {
   "display_name": "Python 3",
   "language": "python",
   "name": "python3"
  },
  "language_info": {
   "codemirror_mode": {
    "name": "ipython",
    "version": 3
   },
   "file_extension": ".py",
   "mimetype": "text/x-python",
   "name": "python",
   "nbconvert_exporter": "python",
   "pygments_lexer": "ipython3",
   "version": "3.9.13"
  },
  "orig_nbformat": 4
 },
 "nbformat": 4,
 "nbformat_minor": 2
}
